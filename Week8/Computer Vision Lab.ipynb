{
 "cells": [
  {
   "cell_type": "markdown",
   "id": "e2179a01",
   "metadata": {},
   "source": [
    "# Computer Vision Lab"
   ]
  },
  {
   "cell_type": "markdown",
   "id": "0fdf5ee4",
   "metadata": {},
   "source": [
    "#### 1. Article \n",
    "Title: 'The ethical questions that haunt facial-recognition research'\n",
    "Link: https://www.nature.com/articles/d41586-020-03187-3\n",
    "\n",
    "Interpretation:\n",
    "While Computer Vision offers excellent possibilities to find lost children or identify, locate and capture people which may be harmful to society (ex: criminals),  it can similarly assist anti-demoratic regimes in locating and capturing dissidents. There is evidence that it is also being used to categorize individuals along racial and ethnic lines, contributing to the increased segregation and marginalization of particular groups as well as to extensive human rights violations.\n",
    "\n",
    "Taking this into account, there are also significant privacy concerns regarding the collection of image data for training models. Many leading researchers are using data which has been gathered without the consent of the subjects, and many do not appear to be particularly concerned about the ethical implications.\n",
    "\n",
    "What should the scientific community do about ethically questionable facial-recognition studies? I agree with the most popular answer given by survey respondents: during peer review, authors of facial-recognition papers should be asked explicitly about the ethics of their studies. I also agree with the proposal that research using facial-recognition software should require prior approval from ethics bodies that consider research with human subjects."
   ]
  },
  {
   "cell_type": "markdown",
   "id": "a5025b5f",
   "metadata": {},
   "source": [
    "#### 2. Generated image "
   ]
  },
  {
   "cell_type": "code",
   "execution_count": 3,
   "id": "68b8b578",
   "metadata": {},
   "outputs": [
    {
     "name": "stderr",
     "output_type": "stream",
     "text": [
      "'[Generated' is not recognized as an internal or external command,\n",
      "operable program or batch file.\n"
     ]
    }
   ],
   "source": [
    "%matplotlib inline\n",
    "from IPython.display import Image\n",
    "Image('woman skiing on hill gen image.png')![Woman skiing]('woman skiing on hill gen image.png')"
   ]
  },
  {
   "cell_type": "code",
   "execution_count": null,
   "id": "153a6735",
   "metadata": {},
   "outputs": [],
   "source": []
  }
 ],
 "metadata": {
  "kernelspec": {
   "display_name": "Python 3 (ipykernel)",
   "language": "python",
   "name": "python3"
  },
  "language_info": {
   "codemirror_mode": {
    "name": "ipython",
    "version": 3
   },
   "file_extension": ".py",
   "mimetype": "text/x-python",
   "name": "python",
   "nbconvert_exporter": "python",
   "pygments_lexer": "ipython3",
   "version": "3.8.8"
  }
 },
 "nbformat": 4,
 "nbformat_minor": 5
}
