{
 "cells": [
  {
   "cell_type": "code",
   "execution_count": null,
   "id": "a87457b4",
   "metadata": {},
   "outputs": [],
   "source": [
    "# set test data\n",
    "y = df['status_new']"
   ]
  },
  {
   "cell_type": "code",
   "execution_count": 1,
   "id": "0633e60c",
   "metadata": {},
   "outputs": [],
   "source": [
    "# import packages\n",
    "\n",
    "import pandas as pd\n",
    "\n",
    "from sklearn.linear_model import LogisticRegression\n",
    "from sklearn.model_selection import train_test_split\n",
    "from sklearn.metrics import confusion_matrix, plot_confusion_matrix\n",
    "from sklearn.metrics import classification_report\n",
    "from sklearn.metrics import accuracy_score\n",
    "\n"
   ]
  },
  {
   "cell_type": "code",
   "execution_count": null,
   "id": "9fae657c",
   "metadata": {},
   "outputs": [],
   "source": [
    "# define the model\n",
    "lr = LogisticRegression(max_iter=400)\n",
    "X_train, X_test, y_train, y_test = train_test_split(X_full, y, test_size=0.3, random_state=100)"
   ]
  },
  {
   "cell_type": "code",
   "execution_count": null,
   "id": "16c4f2db",
   "metadata": {},
   "outputs": [],
   "source": [
    "# fit the model to the training data set\n",
    "lr.fit(X_train, y_train)"
   ]
  },
  {
   "cell_type": "code",
   "execution_count": null,
   "id": "3ba75be6",
   "metadata": {},
   "outputs": [],
   "source": [
    "# make predictions\n",
    "y_pred =lr.predict(X_test)"
   ]
  }
 ],
 "metadata": {
  "kernelspec": {
   "display_name": "Python 3",
   "language": "python",
   "name": "python3"
  },
  "language_info": {
   "codemirror_mode": {
    "name": "ipython",
    "version": 3
   },
   "file_extension": ".py",
   "mimetype": "text/x-python",
   "name": "python",
   "nbconvert_exporter": "python",
   "pygments_lexer": "ipython3",
   "version": "3.8.8"
  }
 },
 "nbformat": 4,
 "nbformat_minor": 5
}
