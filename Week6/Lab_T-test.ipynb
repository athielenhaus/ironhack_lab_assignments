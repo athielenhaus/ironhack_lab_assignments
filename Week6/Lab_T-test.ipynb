{
 "cells": [
  {
   "cell_type": "markdown",
   "id": "8ab06ca4",
   "metadata": {},
   "source": [
    "# Lab T-Test\n",
    "## Problem 1"
   ]
  },
  {
   "cell_type": "code",
   "execution_count": 37,
   "id": "8f7808eb",
   "metadata": {},
   "outputs": [],
   "source": [
    "from scipy.stats import ttest_1samp\n",
    "import numpy as np\n",
    "# this is a one-tailed t test"
   ]
  },
  {
   "cell_type": "markdown",
   "id": "2b69606f",
   "metadata": {},
   "source": [
    "we are looking for evidence that the new machine packs faster than the old machine with a mean of 42.14 seconds"
   ]
  },
  {
   "cell_type": "code",
   "execution_count": 29,
   "id": "e298cc1a",
   "metadata": {},
   "outputs": [],
   "source": [
    "data= [42.7, 43.6, 43.8, 43.3, 42.5, 43.5, 43.1, 41.7, 44, 44.1 ]"
   ]
  },
  {
   "cell_type": "code",
   "execution_count": 43,
   "id": "0c4b0fd1",
   "metadata": {},
   "outputs": [],
   "source": [
    "# Calcuclate standard deviation\n",
    "df = pd.DataFrame(data)"
   ]
  },
  {
   "cell_type": "code",
   "execution_count": 44,
   "id": "816ddbb0",
   "metadata": {},
   "outputs": [
    {
     "data": {
      "text/html": [
       "<div>\n",
       "<style scoped>\n",
       "    .dataframe tbody tr th:only-of-type {\n",
       "        vertical-align: middle;\n",
       "    }\n",
       "\n",
       "    .dataframe tbody tr th {\n",
       "        vertical-align: top;\n",
       "    }\n",
       "\n",
       "    .dataframe thead th {\n",
       "        text-align: right;\n",
       "    }\n",
       "</style>\n",
       "<table border=\"1\" class=\"dataframe\">\n",
       "  <thead>\n",
       "    <tr style=\"text-align: right;\">\n",
       "      <th></th>\n",
       "      <th>0</th>\n",
       "    </tr>\n",
       "  </thead>\n",
       "  <tbody>\n",
       "    <tr>\n",
       "      <th>count</th>\n",
       "      <td>10.000000</td>\n",
       "    </tr>\n",
       "    <tr>\n",
       "      <th>mean</th>\n",
       "      <td>43.230000</td>\n",
       "    </tr>\n",
       "    <tr>\n",
       "      <th>std</th>\n",
       "      <td>0.749889</td>\n",
       "    </tr>\n",
       "    <tr>\n",
       "      <th>min</th>\n",
       "      <td>41.700000</td>\n",
       "    </tr>\n",
       "    <tr>\n",
       "      <th>25%</th>\n",
       "      <td>42.800000</td>\n",
       "    </tr>\n",
       "    <tr>\n",
       "      <th>50%</th>\n",
       "      <td>43.400000</td>\n",
       "    </tr>\n",
       "    <tr>\n",
       "      <th>75%</th>\n",
       "      <td>43.750000</td>\n",
       "    </tr>\n",
       "    <tr>\n",
       "      <th>max</th>\n",
       "      <td>44.100000</td>\n",
       "    </tr>\n",
       "  </tbody>\n",
       "</table>\n",
       "</div>"
      ],
      "text/plain": [
       "               0\n",
       "count  10.000000\n",
       "mean   43.230000\n",
       "std     0.749889\n",
       "min    41.700000\n",
       "25%    42.800000\n",
       "50%    43.400000\n",
       "75%    43.750000\n",
       "max    44.100000"
      ]
     },
     "execution_count": 44,
     "metadata": {},
     "output_type": "execute_result"
    }
   ],
   "source": [
    "df.describe()"
   ]
  },
  {
   "cell_type": "code",
   "execution_count": 49,
   "id": "304268af",
   "metadata": {},
   "outputs": [],
   "source": [
    "# Get standard error\n",
    "from scipy.stats import sem\n",
    "se = sem(data)"
   ]
  },
  {
   "cell_type": "code",
   "execution_count": 50,
   "id": "eb784332",
   "metadata": {},
   "outputs": [
    {
     "data": {
      "text/plain": [
       "4.596524549827454"
      ]
     },
     "execution_count": 50,
     "metadata": {},
     "output_type": "execute_result"
    }
   ],
   "source": [
    "# Get number of standard errors from hypothesized mean\n",
    "(43.23 - 42.14)/ se"
   ]
  },
  {
   "cell_type": "code",
   "execution_count": 30,
   "id": "5dd75b22",
   "metadata": {},
   "outputs": [],
   "source": [
    "# Alternative\n",
    "test_t = ttest_1samp(a=data, popmean=42.14)"
   ]
  },
  {
   "cell_type": "code",
   "execution_count": 31,
   "id": "9f0de568",
   "metadata": {},
   "outputs": [
    {
     "data": {
      "text/plain": [
       "Ttest_1sampResult(statistic=4.5965245498274845, pvalue=0.001296923297250077)"
      ]
     },
     "execution_count": 31,
     "metadata": {},
     "output_type": "execute_result"
    }
   ],
   "source": [
    "test_t"
   ]
  },
  {
   "cell_type": "markdown",
   "id": "7b0da733",
   "metadata": {},
   "source": [
    "The P-value is below 0.5% meaning we can reject the null hypothesis that there is no difference in the machine performance."
   ]
  },
  {
   "cell_type": "code",
   "execution_count": 51,
   "id": "dcae15c9",
   "metadata": {},
   "outputs": [
    {
     "name": "stdout",
     "output_type": "stream",
     "text": [
      "-1.6448536269514729\n"
     ]
    }
   ],
   "source": [
    "# CRITICAL VALUE - z distribution\n",
    "# the standard equation for a probability of a critical value: \n",
    "# p = 1 – α/2 where alpha represents the confidence level \n",
    "\n",
    "from scipy.stats import norm\n",
    "critical_value = norm.ppf(0.05)\n",
    "print(critical_value)\n",
    "\n",
    "# REVISIT"
   ]
  }
 ],
 "metadata": {
  "kernelspec": {
   "display_name": "Python 3",
   "language": "python",
   "name": "python3"
  },
  "language_info": {
   "codemirror_mode": {
    "name": "ipython",
    "version": 3
   },
   "file_extension": ".py",
   "mimetype": "text/x-python",
   "name": "python",
   "nbconvert_exporter": "python",
   "pygments_lexer": "ipython3",
   "version": "3.8.8"
  }
 },
 "nbformat": 4,
 "nbformat_minor": 5
}
