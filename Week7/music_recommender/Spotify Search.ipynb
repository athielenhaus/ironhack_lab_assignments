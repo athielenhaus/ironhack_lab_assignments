{
 "cells": [
  {
   "cell_type": "code",
   "execution_count": 1,
   "id": "8c51ce8e",
   "metadata": {},
   "outputs": [],
   "source": [
    "# Spotify Search\n",
    "\n",
    "import spotipy\n",
    "from spotipy.oauth2 import SpotifyClientCredentials\n",
    "\n",
    "client_id = '656c9257e8044fe98858ea5f578096bd'\n",
    "client_secret = '9b459f6afdf244168d86bac6cce0a90e'\n",
    "sp=spotipy.Spotify(auth_manager=SpotifyClientCredentials(client_id = client_id, client_secret= client_secret))\n",
    "    \n"
   ]
  },
  {
   "cell_type": "code",
   "execution_count": 80,
   "id": "3fe43511",
   "metadata": {},
   "outputs": [],
   "source": [
    "def get_closest_matches(x):\n",
    "    \n",
    "    # fetch 5 song results from spotipy\n",
    "    results = sp.search(q=f\"track:{song}\", limit=6, offset=0, type='track', market=None)\n",
    "    \n",
    "    # add song names, artist names and ids from results to dict\n",
    "    items = results['tracks']['items']\n",
    "    results_dict = {}\n",
    "    for i in range(len(items)):\n",
    "        results_dict[str(i)] = [items[i]['artists'][0]['name'], items[i]['name'], items[i]['id']]\n",
    "    \n",
    "    # propose options to user and get decision\n",
    "    print('CLOSEST MATCHES\\n')\n",
    "    for item in results_dict:\n",
    "        print(f'{item}. \\\"{results_dict[item][1]}\\\" by {results_dict[item][0]}')\n",
    "\n",
    "    user_response = input('''\\nENTER the NUMBER (0-5) of the CLOSEST MATCH for your search, \n",
    "    or type \"n\" to try a new search: \\n''')\n",
    "    \n",
    "    if user_response == 'n':\n",
    "        '''RETURN TO NEW SEARCH'''\n",
    "    elif user_response in ('0', '1', '2', '3', '4', '5'):\n",
    "        return results_dict[user_response]\n",
    "    else:\n",
    "        print(\"That didn't work...please try again\")\n",
    "        get_closest_matches(x)"
   ]
  },
  {
   "cell_type": "code",
   "execution_count": 81,
   "id": "d8179d5f",
   "metadata": {},
   "outputs": [
    {
     "name": "stdout",
     "output_type": "stream",
     "text": [
      "CLOSEST MATCHES\n",
      "\n",
      "0. \"Bad Man (Smooth Criminal)\" by Polo G\n",
      "1. \"Bad Habits\" by Ed Sheeran\n",
      "2. \"Lo Siento BB:/ (with Bad Bunny & Julieta Venegas)\" by Tainy\n",
      "3. \"bad guy\" by Billie Eilish\n",
      "4. \"Going Bad (feat. Drake)\" by Meek Mill\n",
      "5. \"Bad Romance\" by Lady Gaga\n",
      "\n",
      "ENTER the NUMBER (0-5) of the CLOSEST MATCH for your search, \n",
      "    or type \"n\" to try a new search: \n",
      "5\n"
     ]
    },
    {
     "data": {
      "text/plain": [
       "['Lady Gaga', 'Bad Romance', '0SiywuOBRcynK0uKGWdCnn']"
      ]
     },
     "execution_count": 81,
     "metadata": {},
     "output_type": "execute_result"
    }
   ],
   "source": [
    "song = 'bad'\n",
    "get_closest_matches(song)"
   ]
  },
  {
   "cell_type": "code",
   "execution_count": 11,
   "id": "334e13d3",
   "metadata": {},
   "outputs": [],
   "source": [
    "song = 'bad'\n",
    "# fetch song result\n",
    "results = sp.search(q=f\"track:{song}\", limit=3, offset=0, type='track', market=None)"
   ]
  },
  {
   "cell_type": "code",
   "execution_count": 16,
   "id": "0111af90",
   "metadata": {},
   "outputs": [
    {
     "data": {
      "text/plain": [
       "3"
      ]
     },
     "execution_count": 16,
     "metadata": {},
     "output_type": "execute_result"
    }
   ],
   "source": [
    "len(results['tracks']['items'])"
   ]
  },
  {
   "cell_type": "code",
   "execution_count": 22,
   "id": "252a578b",
   "metadata": {},
   "outputs": [
    {
     "data": {
      "text/plain": [
       "'Polo G'"
      ]
     },
     "execution_count": 22,
     "metadata": {},
     "output_type": "execute_result"
    }
   ],
   "source": [
    "results['tracks']['items'][0]['artists'][0]['name']\n"
   ]
  },
  {
   "cell_type": "code",
   "execution_count": 48,
   "id": "7bde5f99",
   "metadata": {},
   "outputs": [
    {
     "data": {
      "text/plain": [
       "'Bad Man (Smooth Criminal)'"
      ]
     },
     "execution_count": 48,
     "metadata": {},
     "output_type": "execute_result"
    }
   ],
   "source": [
    "results['tracks']['items'][0]['name']"
   ]
  },
  {
   "cell_type": "code",
   "execution_count": 49,
   "id": "4fe35439",
   "metadata": {},
   "outputs": [
    {
     "data": {
      "text/plain": [
       "'6RfhBNU1FPWTG7VESlfgOl'"
      ]
     },
     "execution_count": 49,
     "metadata": {},
     "output_type": "execute_result"
    }
   ],
   "source": [
    "results['tracks']['items'][0]['id']"
   ]
  },
  {
   "cell_type": "code",
   "execution_count": 25,
   "id": "d1c8ec48",
   "metadata": {},
   "outputs": [],
   "source": [
    "items = results['tracks']['items']"
   ]
  },
  {
   "cell_type": "code",
   "execution_count": 26,
   "id": "1adab407",
   "metadata": {},
   "outputs": [],
   "source": [
    "'''artists = []\n",
    "songs = []\n",
    "for item in items:\n",
    "    artists.append(item['artists'][0]['name'])\n",
    "    songs.append(item['name'])'''"
   ]
  },
  {
   "cell_type": "code",
   "execution_count": 50,
   "id": "2d4960c6",
   "metadata": {},
   "outputs": [],
   "source": [
    "# add song names, artist names and ids from results to dict\n",
    "results_dict = {}\n",
    "for i in range(len(items)):\n",
    "    results_dict[str(i)] = [items[i]['artists'][0]['name'], items[i]['name'], items[i]['id']]"
   ]
  },
  {
   "cell_type": "code",
   "execution_count": 51,
   "id": "3dc841d0",
   "metadata": {},
   "outputs": [
    {
     "data": {
      "text/plain": [
       "{'0': ['Polo G', 'Bad Man (Smooth Criminal)', '6RfhBNU1FPWTG7VESlfgOl'],\n",
       " '1': ['Ed Sheeran', 'Bad Habits', '3rmo8F54jFF8OgYsqTxm5d'],\n",
       " '2': ['Tainy',\n",
       "  'Lo Siento BB:/ (with Bad Bunny & Julieta Venegas)',\n",
       "  '4gzsuuZypVbxs0Af1LSZyB']}"
      ]
     },
     "execution_count": 51,
     "metadata": {},
     "output_type": "execute_result"
    }
   ],
   "source": [
    "results_dict"
   ]
  },
  {
   "cell_type": "code",
   "execution_count": 54,
   "id": "3c19c0cf",
   "metadata": {},
   "outputs": [
    {
     "name": "stdout",
     "output_type": "stream",
     "text": [
      "0. \"Bad Man (Smooth Criminal)\" by Polo G\n",
      "1. \"Bad Habits\" by Ed Sheeran\n",
      "2. \"Lo Siento BB:/ (with Bad Bunny & Julieta Venegas)\" by Tainy\n",
      "Please enter the number of one of the matches below for your search, \n",
      "\n",
      "or type \"n\" to try again: \n",
      "1\n"
     ]
    }
   ],
   "source": [
    "# Get the user's selection\n",
    "for item in results_dict:\n",
    "    print(f'{item}. \\\"{results_dict[item][1]}\\\" by {results_dict[item][0]}')\n",
    "\n",
    "user_response = input('''Please enter the number of one of the matches below for your search, \n",
    "\n",
    "or type \"n\" to try again: \\n''')"
   ]
  },
  {
   "cell_type": "code",
   "execution_count": 55,
   "id": "80de9693",
   "metadata": {},
   "outputs": [
    {
     "data": {
      "text/plain": [
       "'3rmo8F54jFF8OgYsqTxm5d'"
      ]
     },
     "execution_count": 55,
     "metadata": {},
     "output_type": "execute_result"
    }
   ],
   "source": [
    "results_dict[user_response][2]"
   ]
  },
  {
   "cell_type": "code",
   "execution_count": 56,
   "id": "7d00bc09",
   "metadata": {},
   "outputs": [],
   "source": [
    "# Search for matching audio features\n",
    "search_audio_feats = sp.audio_features(tracks= results_dict[user_response][2])"
   ]
  },
  {
   "cell_type": "code",
   "execution_count": 57,
   "id": "41cc420d",
   "metadata": {},
   "outputs": [
    {
     "data": {
      "text/plain": [
       "[{'danceability': 0.807,\n",
       "  'energy': 0.893,\n",
       "  'key': 11,\n",
       "  'loudness': -3.745,\n",
       "  'mode': 0,\n",
       "  'speechiness': 0.0347,\n",
       "  'acousticness': 0.0451,\n",
       "  'instrumentalness': 2.79e-05,\n",
       "  'liveness': 0.366,\n",
       "  'valence': 0.537,\n",
       "  'tempo': 126.011,\n",
       "  'type': 'audio_features',\n",
       "  'id': '3rmo8F54jFF8OgYsqTxm5d',\n",
       "  'uri': 'spotify:track:3rmo8F54jFF8OgYsqTxm5d',\n",
       "  'track_href': 'https://api.spotify.com/v1/tracks/3rmo8F54jFF8OgYsqTxm5d',\n",
       "  'analysis_url': 'https://api.spotify.com/v1/audio-analysis/3rmo8F54jFF8OgYsqTxm5d',\n",
       "  'duration_ms': 230747,\n",
       "  'time_signature': 4}]"
      ]
     },
     "execution_count": 57,
     "metadata": {},
     "output_type": "execute_result"
    }
   ],
   "source": [
    "search_audio_feats"
   ]
  },
  {
   "cell_type": "markdown",
   "id": "97f242d3",
   "metadata": {},
   "source": [
    "Combine the results with the dataframe\n",
    "\n",
    "before submitting to spotipy\n",
    "or after submitting to spotipy\n",
    "\n",
    "and follow up with clustering\n"
   ]
  },
  {
   "cell_type": "code",
   "execution_count": 27,
   "id": "df82236e",
   "metadata": {},
   "outputs": [
    {
     "data": {
      "text/plain": [
       "['Polo G', 'Ed Sheeran', 'Tainy']"
      ]
     },
     "execution_count": 27,
     "metadata": {},
     "output_type": "execute_result"
    }
   ],
   "source": [
    "artists"
   ]
  },
  {
   "cell_type": "code",
   "execution_count": 28,
   "id": "68a12eb0",
   "metadata": {},
   "outputs": [
    {
     "data": {
      "text/plain": [
       "['Bad Man (Smooth Criminal)',\n",
       " 'Bad Habits',\n",
       " 'Lo Siento BB:/ (with Bad Bunny & Julieta Venegas)']"
      ]
     },
     "execution_count": 28,
     "metadata": {},
     "output_type": "execute_result"
    }
   ],
   "source": [
    "songs"
   ]
  },
  {
   "cell_type": "code",
   "execution_count": 33,
   "id": "e69629bf",
   "metadata": {},
   "outputs": [
    {
     "name": "stdout",
     "output_type": "stream",
     "text": [
      "Bad Man (Smooth Criminal) by Polo G\n",
      "Bad Habits by Ed Sheeran\n",
      "Lo Siento BB:/ (with Bad Bunny & Julieta Venegas) by Tainy\n"
     ]
    }
   ],
   "source": [
    "# print results\n",
    "for song, artist in zip(songs, artists):\n",
    "    print(f'{song} by {artist}')"
   ]
  },
  {
   "cell_type": "code",
   "execution_count": null,
   "id": "98ddc166",
   "metadata": {},
   "outputs": [],
   "source": []
  },
  {
   "cell_type": "code",
   "execution_count": null,
   "id": "ab175bfb",
   "metadata": {},
   "outputs": [],
   "source": [
    "def return_name_artist(tracks)\n",
    "    return [artist['name'] for artist in item['artists']]\n",
    "    return [artist['id'] for artist in track['artists']]"
   ]
  },
  {
   "cell_type": "code",
   "execution_count": 8,
   "id": "8138aa26",
   "metadata": {},
   "outputs": [],
   "source": []
  },
  {
   "cell_type": "code",
   "execution_count": 9,
   "id": "ac4ec0af",
   "metadata": {},
   "outputs": [
    {
     "ename": "KeyError",
     "evalue": "'artists'",
     "output_type": "error",
     "traceback": [
      "\u001b[1;31m---------------------------------------------------------------------------\u001b[0m",
      "\u001b[1;31mKeyError\u001b[0m                                  Traceback (most recent call last)",
      "\u001b[1;32m~\\AppData\\Local\\Temp/ipykernel_15936/689323463.py\u001b[0m in \u001b[0;36m<module>\u001b[1;34m\u001b[0m\n\u001b[1;32m----> 1\u001b[1;33m \u001b[0mget_artist_names_ids\u001b[0m\u001b[1;33m(\u001b[0m\u001b[0mresults\u001b[0m\u001b[1;33m)\u001b[0m\u001b[1;33m\u001b[0m\u001b[1;33m\u001b[0m\u001b[0m\n\u001b[0m",
      "\u001b[1;32m~\\AppData\\Local\\Temp/ipykernel_15936/1747030261.py\u001b[0m in \u001b[0;36mget_artist_names_ids\u001b[1;34m(track)\u001b[0m\n\u001b[0;32m      1\u001b[0m \u001b[1;32mdef\u001b[0m \u001b[0mget_artist_names_ids\u001b[0m\u001b[1;33m(\u001b[0m\u001b[0mtrack\u001b[0m\u001b[1;33m)\u001b[0m\u001b[1;33m:\u001b[0m\u001b[1;33m\u001b[0m\u001b[1;33m\u001b[0m\u001b[0m\n\u001b[1;32m----> 2\u001b[1;33m     \u001b[1;32mreturn\u001b[0m \u001b[1;33m[\u001b[0m\u001b[0martist\u001b[0m\u001b[1;33m[\u001b[0m\u001b[1;34m'name'\u001b[0m\u001b[1;33m]\u001b[0m \u001b[1;32mfor\u001b[0m \u001b[0martist\u001b[0m \u001b[1;32min\u001b[0m \u001b[0mtrack\u001b[0m\u001b[1;33m[\u001b[0m\u001b[1;34m'artists'\u001b[0m\u001b[1;33m]\u001b[0m\u001b[1;33m]\u001b[0m\u001b[1;33m\u001b[0m\u001b[1;33m\u001b[0m\u001b[0m\n\u001b[0m\u001b[0;32m      3\u001b[0m     \u001b[1;32mreturn\u001b[0m \u001b[1;33m[\u001b[0m\u001b[0martist\u001b[0m\u001b[1;33m[\u001b[0m\u001b[1;34m'id'\u001b[0m\u001b[1;33m]\u001b[0m \u001b[1;32mfor\u001b[0m \u001b[0martist\u001b[0m \u001b[1;32min\u001b[0m \u001b[0mtrack\u001b[0m\u001b[1;33m[\u001b[0m\u001b[1;34m'artists'\u001b[0m\u001b[1;33m]\u001b[0m\u001b[1;33m]\u001b[0m\u001b[1;33m\u001b[0m\u001b[1;33m\u001b[0m\u001b[0m\n",
      "\u001b[1;31mKeyError\u001b[0m: 'artists'"
     ]
    }
   ],
   "source": [
    "get_artist_names_ids(results)"
   ]
  },
  {
   "cell_type": "code",
   "execution_count": null,
   "id": "4014c5f2",
   "metadata": {},
   "outputs": [],
   "source": [
    "'''uri_list = []\n",
    "for artist, track in search_criteria:\n",
    "    results = sp.search(q=f\"artist:{artist} track:{track}\", type=\"track\")\n",
    "    try:\n",
    "        uri_list.append(results[\"tracks\"][\"items\"][0][\"id\"])\n",
    "    except IndexError:\n",
    "        pass'''"
   ]
  }
 ],
 "metadata": {
  "kernelspec": {
   "display_name": "Python 3 (ipykernel)",
   "language": "python",
   "name": "python3"
  },
  "language_info": {
   "codemirror_mode": {
    "name": "ipython",
    "version": 3
   },
   "file_extension": ".py",
   "mimetype": "text/x-python",
   "name": "python",
   "nbconvert_exporter": "python",
   "pygments_lexer": "ipython3",
   "version": "3.8.8"
  }
 },
 "nbformat": 4,
 "nbformat_minor": 5
}
